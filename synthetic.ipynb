{
 "cells": [
  {
   "cell_type": "markdown",
   "id": "c8b9e5e9",
   "metadata": {},
   "source": [
    "Synthetic Error Generation Work"
   ]
  },
  {
   "cell_type": "markdown",
   "id": "e5e0b18b",
   "metadata": {},
   "source": [
    "## Fragments\n",
    "Fragments should be straightforward"
   ]
  },
  {
   "cell_type": "markdown",
   "id": "1575eccd",
   "metadata": {},
   "source": [
    "### Types of Fragments\n",
    "\n",
    "Based on the Miniblu"
   ]
  },
  {
   "cell_type": "code",
   "execution_count": null,
   "id": "d3f8b304",
   "metadata": {},
   "outputs": [],
   "source": []
  },
  {
   "cell_type": "code",
   "execution_count": null,
   "id": "ab851029",
   "metadata": {},
   "outputs": [],
   "source": []
  }
 ],
 "metadata": {
  "language_info": {
   "name": "python"
  }
 },
 "nbformat": 4,
 "nbformat_minor": 5
}
