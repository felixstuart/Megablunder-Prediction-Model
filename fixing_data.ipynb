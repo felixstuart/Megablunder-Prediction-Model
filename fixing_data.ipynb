{
 "cells": [
  {
   "cell_type": "code",
   "execution_count": 3,
   "id": "fe059f94",
   "metadata": {},
   "outputs": [],
   "source": [
    "import pandas as pd\n",
    "\n",
    "data = pd.read_csv(\"megablunders.csv\")"
   ]
  },
  {
   "cell_type": "code",
   "execution_count": 10,
   "id": "13a9e5a7",
   "metadata": {},
   "outputs": [],
   "source": [
    "import numpy as np\n",
    "\n",
    "case_and_agree = data[data[\"label\"].isin([\"AGREE\", \"CASE\"])]"
   ]
  },
  {
   "cell_type": "code",
   "execution_count": 19,
   "id": "a7e8d874",
   "metadata": {},
   "outputs": [
    {
     "name": "stdout",
     "output_type": "stream",
     "text": [
      "                                                  text  label\n",
      "3    Because of the accumulated bad karma that hang...  AGREE\n",
      "6    In each of the last four World Series the Red ...   CASE\n",
      "10   After a mysterious but effective advertising c...   CASE\n",
      "21   Having been stalled in committee for months, t...   CASE\n",
      "28   Stability being an important value, a computer...  AGREE\n",
      "32   The equipment truck, with all the uniforms, cl...  AGREE\n",
      "34   Because of the resistance put up by Jim and I,...   CASE\n",
      "41   As a responsible hiker, we should take care of...  AGREE\n",
      "44   The teacher offered a prize of ten snack bar d...   CASE\n",
      "51   The player who all the fans love best is free-...   CASE\n",
      "53   An old-fashioned dress with its many buttons, ...  AGREE\n",
      "58   The stakes are much greater for she and I than...   CASE\n",
      "63   The top scorers--Jared, Tyler, Zack, and me--r...   CASE\n",
      "67   Neither of the two kittens at the pet store we...  AGREE\n",
      "73   The ongoing modifications to the Mini Wheats p...  AGREE\n",
      "74   Fighting Freaks 7 is a very complicated game a...   CASE\n",
      "81   No matter how rough and daunting the path may ...  AGREE\n",
      "82   The package went unclaimed because the student...   CASE\n",
      "86   The computer, which required thousands of vacu...  AGREE\n",
      "93   A magazine that reverently preserves the doodl...  AGREE\n",
      "94   A responsible writer must of course check fact...  AGREE\n",
      "102  Herman, along with his family, go to the same ...  AGREE\n",
      "106  The engine repair class is going very well; al...   CASE\n",
      "107  Bob is the only one of those workers who have ...  AGREE\n",
      "109  Give the book to Hermione or I; I do not know ...   CASE\n",
      "113  Mrs. James, usually accompanied by her three c...  AGREE\n",
      "118  Apparently, what angered Mr. Polk was me givin...   CASE\n",
      "129  Because of the accumulated bad karma that hang...  AGREE\n",
      "130  Due to the endless bad luck plaguing the team,...  AGREE\n",
      "135  In each of the last four World Series the Red ...   CASE\n",
      "136  In every World Series the Sox have been part o...   CASE\n",
      "143  After a mysterious but effective advertising c...   CASE\n",
      "144  After a brilliantly sneaky advertising campaig...   CASE\n",
      "165  Having been stalled in committee for months, t...   CASE\n",
      "166  After months of delay in committee, the promot...   CASE\n",
      "179  Stability being an important value, a computer...  AGREE\n",
      "180  Stability is crucial, and a computer full of f...  AGREE\n"
     ]
    }
   ],
   "source": [
    "with pd.option_context('display.max_rows', None, 'display.max_columns', None):  # more options can be specified also\n",
    "    print(case_and_agree)"
   ]
  },
  {
   "cell_type": "markdown",
   "id": "fb7ac321",
   "metadata": {},
   "source": []
  }
 ],
 "metadata": {
  "kernelspec": {
   "display_name": ".venv",
   "language": "python",
   "name": "python3"
  },
  "language_info": {
   "codemirror_mode": {
    "name": "ipython",
    "version": 3
   },
   "file_extension": ".py",
   "mimetype": "text/x-python",
   "name": "python",
   "nbconvert_exporter": "python",
   "pygments_lexer": "ipython3",
   "version": "3.9.6"
  }
 },
 "nbformat": 4,
 "nbformat_minor": 5
}
